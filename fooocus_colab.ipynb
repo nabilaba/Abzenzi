{
  "cells": [
    {
      "cell_type": "code",
      "execution_count": null,
      "metadata": {
        "id": "VjYy0F2gZIPR"
      },
      "outputs": [],
      "source": [
        "!pip install pygit2==1.15.1\n",
        "%cd /content\n",
        "!git clone https://github.com/lllyasviel/Fooocus.git"
      ]
    },
    {
      "cell_type": "code",
      "source": [
        "# 1. Import the secrets module and access your stored token\n",
        "from google.colab import userdata\n",
        "try:\n",
        "    TOKEN = userdata.get('TOKEN')\n",
        "    if not TOKEN:\n",
        "        raise ValueError(\"Civitai token not found or empty in Colab Secrets. Please add it.\")\n",
        "except userdata.SecretNotFoundError:\n",
        "    print(\"Secret 'TOKEN' not found. Please add it to Colab Secrets (key icon 🔑).\")\n",
        "    raise # Stop execution if the secret isn't found\n",
        "except ValueError as e:\n",
        "    print(e)\n",
        "    raise # Stop execution if the secret is empty"
      ],
      "metadata": {
        "id": "6WOrivZHwYD8"
      },
      "execution_count": null,
      "outputs": []
    },
    {
      "cell_type": "code",
      "source": [
        "with open('models.txt', 'r') as f:\n",
        "    for line in f:\n",
        "        url = line.strip().replace('$TOKEN', TOKEN)\n",
        "        print(f\"Downloading: {url}\")\n",
        "        !wget --content-disposition -q --show-progress \"{url}\""
      ],
      "metadata": {
        "id": "caqm4qLRwZfX"
      },
      "execution_count": null,
      "outputs": []
    },
    {
      "cell_type": "code",
      "source": [
        "cd Fooocus/"
      ],
      "metadata": {
        "id": "KvkAj4HzwbeK"
      },
      "execution_count": null,
      "outputs": []
    },
    {
      "cell_type": "code",
      "source": [
        "!python entry_with_update.py --share --always-high-vram\n"
      ],
      "metadata": {
        "id": "C6fg0AySwdCQ"
      },
      "execution_count": null,
      "outputs": []
    }
  ],
  "metadata": {
    "accelerator": "GPU",
    "colab": {
      "gpuType": "T4",
      "provenance": []
    },
    "kernelspec": {
      "display_name": "Python 3",
      "name": "python3"
    },
    "language_info": {
      "name": "python"
    }
  },
  "nbformat": 4,
  "nbformat_minor": 0
}